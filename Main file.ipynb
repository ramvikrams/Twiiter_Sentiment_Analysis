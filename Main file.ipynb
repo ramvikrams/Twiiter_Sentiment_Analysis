{
 "cells": [
  {
   "cell_type": "code",
   "execution_count": 4,
   "id": "f2c6979c-a32a-4ca9-a431-e768fbdf6bb9",
   "metadata": {},
   "outputs": [],
   "source": [
    "import pandas as pd\n",
    "import re\n",
    "import string\n",
    "from textblob import TextBlob\n",
    "import nltk\n",
    "from nltk.corpus import stopwords\n",
    "import swifter\n",
    "import numpy as np"
   ]
  },
  {
   "cell_type": "code",
   "execution_count": 5,
   "id": "39f8cc7d-aba9-4ac0-ac36-157f2fe63711",
   "metadata": {},
   "outputs": [],
   "source": [
    "df = pd.read_csv('Tweets.csv')"
   ]
  },
  {
   "cell_type": "code",
   "execution_count": 6,
   "id": "acdf46f7-8111-4579-936f-cdbdae607f39",
   "metadata": {},
   "outputs": [
    {
     "data": {
      "text/plain": [
       "(27481, 4)"
      ]
     },
     "execution_count": 6,
     "metadata": {},
     "output_type": "execute_result"
    }
   ],
   "source": [
    "df.shape"
   ]
  },
  {
   "cell_type": "code",
   "execution_count": 7,
   "id": "7602cdae-b757-4ce3-bc72-83abae679ce1",
   "metadata": {},
   "outputs": [
    {
     "data": {
      "text/html": [
       "<div>\n",
       "<style scoped>\n",
       "    .dataframe tbody tr th:only-of-type {\n",
       "        vertical-align: middle;\n",
       "    }\n",
       "\n",
       "    .dataframe tbody tr th {\n",
       "        vertical-align: top;\n",
       "    }\n",
       "\n",
       "    .dataframe thead th {\n",
       "        text-align: right;\n",
       "    }\n",
       "</style>\n",
       "<table border=\"1\" class=\"dataframe\">\n",
       "  <thead>\n",
       "    <tr style=\"text-align: right;\">\n",
       "      <th></th>\n",
       "      <th>textID</th>\n",
       "      <th>text</th>\n",
       "      <th>selected_text</th>\n",
       "      <th>sentiment</th>\n",
       "    </tr>\n",
       "  </thead>\n",
       "  <tbody>\n",
       "    <tr>\n",
       "      <th>0</th>\n",
       "      <td>cb774db0d1</td>\n",
       "      <td>I`d have responded, if I were going</td>\n",
       "      <td>I`d have responded, if I were going</td>\n",
       "      <td>neutral</td>\n",
       "    </tr>\n",
       "    <tr>\n",
       "      <th>1</th>\n",
       "      <td>549e992a42</td>\n",
       "      <td>Sooo SAD I will miss you here in San Diego!!!</td>\n",
       "      <td>Sooo SAD</td>\n",
       "      <td>negative</td>\n",
       "    </tr>\n",
       "    <tr>\n",
       "      <th>2</th>\n",
       "      <td>088c60f138</td>\n",
       "      <td>my boss is bullying me...</td>\n",
       "      <td>bullying me</td>\n",
       "      <td>negative</td>\n",
       "    </tr>\n",
       "    <tr>\n",
       "      <th>3</th>\n",
       "      <td>9642c003ef</td>\n",
       "      <td>what interview! leave me alone</td>\n",
       "      <td>leave me alone</td>\n",
       "      <td>negative</td>\n",
       "    </tr>\n",
       "    <tr>\n",
       "      <th>4</th>\n",
       "      <td>358bd9e861</td>\n",
       "      <td>Sons of ****, why couldn`t they put them on t...</td>\n",
       "      <td>Sons of ****,</td>\n",
       "      <td>negative</td>\n",
       "    </tr>\n",
       "  </tbody>\n",
       "</table>\n",
       "</div>"
      ],
      "text/plain": [
       "       textID                                               text  \\\n",
       "0  cb774db0d1                I`d have responded, if I were going   \n",
       "1  549e992a42      Sooo SAD I will miss you here in San Diego!!!   \n",
       "2  088c60f138                          my boss is bullying me...   \n",
       "3  9642c003ef                     what interview! leave me alone   \n",
       "4  358bd9e861   Sons of ****, why couldn`t they put them on t...   \n",
       "\n",
       "                         selected_text sentiment  \n",
       "0  I`d have responded, if I were going   neutral  \n",
       "1                             Sooo SAD  negative  \n",
       "2                          bullying me  negative  \n",
       "3                       leave me alone  negative  \n",
       "4                        Sons of ****,  negative  "
      ]
     },
     "execution_count": 7,
     "metadata": {},
     "output_type": "execute_result"
    }
   ],
   "source": [
    "df.head()"
   ]
  },
  {
   "cell_type": "code",
   "execution_count": 8,
   "id": "30a0d07f-c016-4163-9676-e6e15844437e",
   "metadata": {},
   "outputs": [
    {
     "name": "stdout",
     "output_type": "stream",
     "text": [
      "The two columns do not have the same values.\n"
     ]
    }
   ],
   "source": [
    "column1 = df['text']\n",
    "column2 = df['selected_text']\n",
    "\n",
    "are_columns_same = (column1 == column2).all()\n",
    "\n",
    "if are_columns_same:\n",
    "    print(\"The two columns have the same values.\")\n",
    "else:\n",
    "    print(\"The two columns do not have the same values.\")"
   ]
  },
  {
   "cell_type": "code",
   "execution_count": 9,
   "id": "b35bf7e6-6795-4e0d-99cc-5cf0e740a262",
   "metadata": {},
   "outputs": [
    {
     "data": {
      "text/plain": [
       "textID           object\n",
       "text             object\n",
       "selected_text    object\n",
       "sentiment        object\n",
       "dtype: object"
      ]
     },
     "execution_count": 9,
     "metadata": {},
     "output_type": "execute_result"
    }
   ],
   "source": [
    "df.dtypes"
   ]
  },
  {
   "cell_type": "code",
   "execution_count": 10,
   "id": "18e5755a-39f1-4cad-9619-f677e1efbc5f",
   "metadata": {},
   "outputs": [
    {
     "name": "stdout",
     "output_type": "stream",
     "text": [
      "object\n"
     ]
    }
   ],
   "source": [
    "print(df['text'].dtype)"
   ]
  },
  {
   "cell_type": "code",
   "execution_count": 11,
   "id": "55bb0a94-2936-4b4b-b040-e6e72923b6c2",
   "metadata": {},
   "outputs": [
    {
     "name": "stdout",
     "output_type": "stream",
     "text": [
      "1\n"
     ]
    }
   ],
   "source": [
    "print(df['text'].isnull().sum())\n"
   ]
  },
  {
   "cell_type": "code",
   "execution_count": 12,
   "id": "933fc992-68b9-4fdf-ba5c-feca358df216",
   "metadata": {},
   "outputs": [],
   "source": [
    "rows_with_empty_values = df[df.isnull().any(axis=1)]"
   ]
  },
  {
   "cell_type": "code",
   "execution_count": 13,
   "id": "9df4ed1a-bc59-4973-bced-f7dcd16d1695",
   "metadata": {},
   "outputs": [
    {
     "name": "stdout",
     "output_type": "stream",
     "text": [
      "         textID text selected_text sentiment\n",
      "314  fdb77c3752  NaN           NaN   neutral\n"
     ]
    }
   ],
   "source": [
    "print(rows_with_empty_values)"
   ]
  },
  {
   "cell_type": "code",
   "execution_count": 14,
   "id": "412073f1-357d-430a-bd41-28d9cac6869c",
   "metadata": {},
   "outputs": [],
   "source": [
    "index_to_drop=314\n",
    "df = df.drop(index_to_drop)"
   ]
  },
  {
   "cell_type": "code",
   "execution_count": 15,
   "id": "e9e2e4cf-5155-4f6c-bca5-d2dc758f4c7e",
   "metadata": {},
   "outputs": [
    {
     "data": {
      "text/html": [
       "<div>\n",
       "<style scoped>\n",
       "    .dataframe tbody tr th:only-of-type {\n",
       "        vertical-align: middle;\n",
       "    }\n",
       "\n",
       "    .dataframe tbody tr th {\n",
       "        vertical-align: top;\n",
       "    }\n",
       "\n",
       "    .dataframe thead th {\n",
       "        text-align: right;\n",
       "    }\n",
       "</style>\n",
       "<table border=\"1\" class=\"dataframe\">\n",
       "  <thead>\n",
       "    <tr style=\"text-align: right;\">\n",
       "      <th></th>\n",
       "      <th>textID</th>\n",
       "      <th>text</th>\n",
       "      <th>selected_text</th>\n",
       "      <th>sentiment</th>\n",
       "    </tr>\n",
       "  </thead>\n",
       "  <tbody>\n",
       "    <tr>\n",
       "      <th>0</th>\n",
       "      <td>cb774db0d1</td>\n",
       "      <td>I`d have responded, if I were going</td>\n",
       "      <td>I`d have responded, if I were going</td>\n",
       "      <td>neutral</td>\n",
       "    </tr>\n",
       "    <tr>\n",
       "      <th>1</th>\n",
       "      <td>549e992a42</td>\n",
       "      <td>Sooo SAD I will miss you here in San Diego!!!</td>\n",
       "      <td>Sooo SAD</td>\n",
       "      <td>negative</td>\n",
       "    </tr>\n",
       "    <tr>\n",
       "      <th>2</th>\n",
       "      <td>088c60f138</td>\n",
       "      <td>my boss is bullying me...</td>\n",
       "      <td>bullying me</td>\n",
       "      <td>negative</td>\n",
       "    </tr>\n",
       "    <tr>\n",
       "      <th>3</th>\n",
       "      <td>9642c003ef</td>\n",
       "      <td>what interview! leave me alone</td>\n",
       "      <td>leave me alone</td>\n",
       "      <td>negative</td>\n",
       "    </tr>\n",
       "    <tr>\n",
       "      <th>4</th>\n",
       "      <td>358bd9e861</td>\n",
       "      <td>Sons of ****, why couldn`t they put them on t...</td>\n",
       "      <td>Sons of ****,</td>\n",
       "      <td>negative</td>\n",
       "    </tr>\n",
       "    <tr>\n",
       "      <th>...</th>\n",
       "      <td>...</td>\n",
       "      <td>...</td>\n",
       "      <td>...</td>\n",
       "      <td>...</td>\n",
       "    </tr>\n",
       "    <tr>\n",
       "      <th>27476</th>\n",
       "      <td>4eac33d1c0</td>\n",
       "      <td>wish we could come see u on Denver  husband l...</td>\n",
       "      <td>d lost</td>\n",
       "      <td>negative</td>\n",
       "    </tr>\n",
       "    <tr>\n",
       "      <th>27477</th>\n",
       "      <td>4f4c4fc327</td>\n",
       "      <td>I`ve wondered about rake to.  The client has ...</td>\n",
       "      <td>, don`t force</td>\n",
       "      <td>negative</td>\n",
       "    </tr>\n",
       "    <tr>\n",
       "      <th>27478</th>\n",
       "      <td>f67aae2310</td>\n",
       "      <td>Yay good for both of you. Enjoy the break - y...</td>\n",
       "      <td>Yay good for both of you.</td>\n",
       "      <td>positive</td>\n",
       "    </tr>\n",
       "    <tr>\n",
       "      <th>27479</th>\n",
       "      <td>ed167662a5</td>\n",
       "      <td>But it was worth it  ****.</td>\n",
       "      <td>But it was worth it  ****.</td>\n",
       "      <td>positive</td>\n",
       "    </tr>\n",
       "    <tr>\n",
       "      <th>27480</th>\n",
       "      <td>6f7127d9d7</td>\n",
       "      <td>All this flirting going on - The ATG smiles...</td>\n",
       "      <td>All this flirting going on - The ATG smiles. Y...</td>\n",
       "      <td>neutral</td>\n",
       "    </tr>\n",
       "  </tbody>\n",
       "</table>\n",
       "<p>27480 rows × 4 columns</p>\n",
       "</div>"
      ],
      "text/plain": [
       "           textID                                               text  \\\n",
       "0      cb774db0d1                I`d have responded, if I were going   \n",
       "1      549e992a42      Sooo SAD I will miss you here in San Diego!!!   \n",
       "2      088c60f138                          my boss is bullying me...   \n",
       "3      9642c003ef                     what interview! leave me alone   \n",
       "4      358bd9e861   Sons of ****, why couldn`t they put them on t...   \n",
       "...           ...                                                ...   \n",
       "27476  4eac33d1c0   wish we could come see u on Denver  husband l...   \n",
       "27477  4f4c4fc327   I`ve wondered about rake to.  The client has ...   \n",
       "27478  f67aae2310   Yay good for both of you. Enjoy the break - y...   \n",
       "27479  ed167662a5                         But it was worth it  ****.   \n",
       "27480  6f7127d9d7     All this flirting going on - The ATG smiles...   \n",
       "\n",
       "                                           selected_text sentiment  \n",
       "0                    I`d have responded, if I were going   neutral  \n",
       "1                                               Sooo SAD  negative  \n",
       "2                                            bullying me  negative  \n",
       "3                                         leave me alone  negative  \n",
       "4                                          Sons of ****,  negative  \n",
       "...                                                  ...       ...  \n",
       "27476                                             d lost  negative  \n",
       "27477                                      , don`t force  negative  \n",
       "27478                          Yay good for both of you.  positive  \n",
       "27479                         But it was worth it  ****.  positive  \n",
       "27480  All this flirting going on - The ATG smiles. Y...   neutral  \n",
       "\n",
       "[27480 rows x 4 columns]"
      ]
     },
     "execution_count": 15,
     "metadata": {},
     "output_type": "execute_result"
    }
   ],
   "source": [
    "df"
   ]
  },
  {
   "cell_type": "code",
   "execution_count": 16,
   "id": "cf0c6c51-e606-450b-980b-b9320f12069a",
   "metadata": {},
   "outputs": [],
   "source": [
    "df['text'] = df['text'].str.lower()"
   ]
  },
  {
   "cell_type": "code",
   "execution_count": 17,
   "id": "4fcc91bf-beb6-412e-8d0d-563aac5af983",
   "metadata": {},
   "outputs": [],
   "source": [
    "df['selected_text'] = df['selected_text'].str.lower()"
   ]
  },
  {
   "cell_type": "code",
   "execution_count": 18,
   "id": "b68ef153-1240-42f7-934c-32a9e56fdbb8",
   "metadata": {},
   "outputs": [],
   "source": [
    "def remove_url(text):\n",
    "    pattern = re.compile(r'https?://\\S+|www\\.\\S+')\n",
    "    return pattern.sub(r'', text)"
   ]
  },
  {
   "cell_type": "code",
   "execution_count": 19,
   "id": "a41c8861-3a69-4676-9a05-9af8cebdf633",
   "metadata": {},
   "outputs": [],
   "source": [
    "df['text'] = df['text'].apply(remove_url)"
   ]
  },
  {
   "cell_type": "code",
   "execution_count": 20,
   "id": "1cb58ce3-e2d9-4131-a86b-8687b7c21c8b",
   "metadata": {},
   "outputs": [],
   "source": [
    "df['selected_text'] = df['selected_text'].apply(remove_url)"
   ]
  },
  {
   "cell_type": "code",
   "execution_count": 21,
   "id": "9b3f2c19-a606-46cb-9d7c-4d52a60af336",
   "metadata": {},
   "outputs": [],
   "source": [
    "column_name= 'text'\n",
    "tag_to_check = '<>'\n",
    "rows_with_tag = df[df[column_name].str.contains(tag_to_check, na=False)]"
   ]
  },
  {
   "cell_type": "code",
   "execution_count": 22,
   "id": "659521b3-b675-404b-9259-d0e9367f6636",
   "metadata": {},
   "outputs": [
    {
     "data": {
      "text/html": [
       "<div>\n",
       "<style scoped>\n",
       "    .dataframe tbody tr th:only-of-type {\n",
       "        vertical-align: middle;\n",
       "    }\n",
       "\n",
       "    .dataframe tbody tr th {\n",
       "        vertical-align: top;\n",
       "    }\n",
       "\n",
       "    .dataframe thead th {\n",
       "        text-align: right;\n",
       "    }\n",
       "</style>\n",
       "<table border=\"1\" class=\"dataframe\">\n",
       "  <thead>\n",
       "    <tr style=\"text-align: right;\">\n",
       "      <th></th>\n",
       "      <th>textID</th>\n",
       "      <th>text</th>\n",
       "      <th>selected_text</th>\n",
       "      <th>sentiment</th>\n",
       "    </tr>\n",
       "  </thead>\n",
       "  <tbody>\n",
       "  </tbody>\n",
       "</table>\n",
       "</div>"
      ],
      "text/plain": [
       "Empty DataFrame\n",
       "Columns: [textID, text, selected_text, sentiment]\n",
       "Index: []"
      ]
     },
     "execution_count": 22,
     "metadata": {},
     "output_type": "execute_result"
    }
   ],
   "source": [
    "rows_with_tag"
   ]
  },
  {
   "cell_type": "code",
   "execution_count": 23,
   "id": "08a1c167-ed52-4501-afee-a3d015e993c0",
   "metadata": {},
   "outputs": [],
   "source": [
    "column_name= 'selected_text'\n",
    "tag_to_check = '<>'\n",
    "rows_with_tag1 = df[df[column_name].str.contains(tag_to_check, na=False)]"
   ]
  },
  {
   "cell_type": "code",
   "execution_count": 24,
   "id": "232e9a95-0178-4bc4-bfa5-010e2c8d0b3f",
   "metadata": {},
   "outputs": [
    {
     "data": {
      "text/html": [
       "<div>\n",
       "<style scoped>\n",
       "    .dataframe tbody tr th:only-of-type {\n",
       "        vertical-align: middle;\n",
       "    }\n",
       "\n",
       "    .dataframe tbody tr th {\n",
       "        vertical-align: top;\n",
       "    }\n",
       "\n",
       "    .dataframe thead th {\n",
       "        text-align: right;\n",
       "    }\n",
       "</style>\n",
       "<table border=\"1\" class=\"dataframe\">\n",
       "  <thead>\n",
       "    <tr style=\"text-align: right;\">\n",
       "      <th></th>\n",
       "      <th>textID</th>\n",
       "      <th>text</th>\n",
       "      <th>selected_text</th>\n",
       "      <th>sentiment</th>\n",
       "    </tr>\n",
       "  </thead>\n",
       "  <tbody>\n",
       "  </tbody>\n",
       "</table>\n",
       "</div>"
      ],
      "text/plain": [
       "Empty DataFrame\n",
       "Columns: [textID, text, selected_text, sentiment]\n",
       "Index: []"
      ]
     },
     "execution_count": 24,
     "metadata": {},
     "output_type": "execute_result"
    }
   ],
   "source": [
    "rows_with_tag1"
   ]
  },
  {
   "cell_type": "code",
   "execution_count": 25,
   "id": "09f3dbff-5c8f-4652-8523-663acebc9a04",
   "metadata": {},
   "outputs": [],
   "source": [
    "exclude = string.punctuation"
   ]
  },
  {
   "cell_type": "code",
   "execution_count": 26,
   "id": "304a39fc-9a4f-432e-997a-69126a885df8",
   "metadata": {},
   "outputs": [],
   "source": [
    "def remove_punc(text):\n",
    "    return text.translate(str.maketrans('','',exclude))"
   ]
  },
  {
   "cell_type": "code",
   "execution_count": 27,
   "id": "38300142-4d52-41cb-adb7-80ec327eb3f8",
   "metadata": {},
   "outputs": [],
   "source": [
    "df['text'] = df['text'].apply(remove_punc)"
   ]
  },
  {
   "cell_type": "code",
   "execution_count": 28,
   "id": "44616bda-47b1-491e-8a76-5a2ff8a40a35",
   "metadata": {},
   "outputs": [],
   "source": [
    "df['selected_text'] = df['selected_text'].apply(remove_punc)"
   ]
  },
  {
   "cell_type": "code",
   "execution_count": 29,
   "id": "3db5551d-e4f1-4129-88b0-741280dc2982",
   "metadata": {},
   "outputs": [],
   "source": [
    "def text_file_to_dict(file_path):\n",
    "    result_dict = {}\n",
    "    with open(file_path, 'r') as file:\n",
    "        for line in file:\n",
    "            if '=' in line:\n",
    "                key, value = map(str.strip, line.strip().split('='))\n",
    "            elif '-' in line:\n",
    "                key, value = map(str.strip, line.strip().split('-'))\n",
    "            else:\n",
    "                continue\n",
    "            result_dict[key] = value\n",
    "    return result_dict"
   ]
  },
  {
   "cell_type": "code",
   "execution_count": 30,
   "id": "d843e3af-daa1-4545-a087-86b49a23d67a",
   "metadata": {},
   "outputs": [
    {
     "name": "stdout",
     "output_type": "stream",
     "text": [
      "{'AFAIK': 'As Far As I Know', 'AFK': 'Away From Keyboard', 'ASAP': 'As Soon As Possible', 'ATK': 'At The Keyboard', 'ATM': 'At The Moment', 'A3': 'Anytime, Anywhere, Anyplace', 'BAK': 'Back At Keyboard', 'BBL': 'Be Back Later', 'BBS': 'Be Back Soon', 'BFN': 'Bye For Now', 'B4N': 'Bye For Now', 'BRB': 'Be Right Back', 'BRT': 'Be Right There', 'BTW': 'By The Way', 'B4': 'Before', 'CU': 'See You', 'CUL8R': 'See You Later', 'CYA': 'See You', 'FAQ': 'Frequently Asked Questions', 'FC': 'Fingers Crossed', 'FWIW': \"For What It's Worth\", 'FYI': 'For Your Information', 'GAL': 'Get A Life', 'GG': 'Good Game', 'GN': 'Good Night', 'GMTA': 'Great Minds Think Alike', 'GR8': 'Great!', 'G9': 'Genius', 'IC': 'I See', 'ICQ': 'I Seek you (also a chat program)', 'ILU': 'ILU: I Love You', 'IMHO': 'In My Honest/Humble Opinion', 'IMO': 'In My Opinion', 'IOW': 'In Other Words', 'IRL': 'In Real Life', 'KISS': 'Keep It Simple, Stupid', 'LDR': 'Long Distance Relationship', 'LMAO': 'Laugh My A.. Off', 'LOL': 'Laughing Out Loud', 'LTNS': 'Long Time No See', 'L8R': 'Later', 'MTE': 'My Thoughts Exactly', 'M8': 'Mate', 'NRN': 'No Reply Necessary', 'OIC': 'Oh I See', 'PITA': 'Pain In The A..', 'PRT': 'Party', 'PRW': 'Parents Are Watching', 'ROFL': 'Rolling On The Floor Laughing', 'ROFLOL': 'Rolling On The Floor Laughing Out Loud', 'ROTFLMAO': 'Rolling On The Floor Laughing My A.. Off', 'SK8': 'Skate', 'STATS': 'Your sex and age', 'ASL': 'Age, Sex, Location', 'THX': 'Thank You', 'TTFN': 'Ta-Ta For Now!', 'TTYL': 'Talk To You Later', 'U': 'You', 'U2': 'You Too', 'U4E': 'Yours For Ever', 'WB': 'Welcome Back', 'WTF': 'What The F...', 'WTG': 'Way To Go!', 'WUF': 'Where Are You From?', 'W8': 'Wait...', '7K': 'Sick:-D Laugher'}\n"
     ]
    }
   ],
   "source": [
    "file_path = 'slang.txt'\n",
    "my_dict = text_file_to_dict(file_path)\n",
    "\n",
    "print(my_dict)"
   ]
  },
  {
   "cell_type": "code",
   "execution_count": 31,
   "id": "d5efbe67-888c-405e-aaad-472aadcc7c52",
   "metadata": {},
   "outputs": [],
   "source": [
    "def chat_conversion(text):\n",
    "    new_text=[]\n",
    "    for w in text.split():\n",
    "        if w.upper() in my_dict:\n",
    "            new_text.append(my_dict[w.upper()])\n",
    "        else:\n",
    "            new_text.append(w)\n",
    "    return \" \".join(new_text)"
   ]
  },
  {
   "cell_type": "code",
   "execution_count": 32,
   "id": "2042e7ca-a157-4d40-a8c1-f5ed52cfbe46",
   "metadata": {},
   "outputs": [],
   "source": [
    "df['text'] = df['text'].apply(chat_conversion)"
   ]
  },
  {
   "cell_type": "code",
   "execution_count": 33,
   "id": "521fc47c-f485-4a20-8db1-fb0071c6d763",
   "metadata": {},
   "outputs": [],
   "source": [
    "df['selected_text'] = df['selected_text'].apply(chat_conversion)"
   ]
  },
  {
   "cell_type": "code",
   "execution_count": 34,
   "id": "36a42391-300b-4157-bd7f-cbf57999e565",
   "metadata": {},
   "outputs": [],
   "source": [
    "# df['text'] = df['text'].swifter.apply(lambda x: TextBlob(x).correct().string)"
   ]
  },
  {
   "cell_type": "code",
   "execution_count": 35,
   "id": "7a77ce64-eacc-46e1-9a9c-53cb89f875e1",
   "metadata": {},
   "outputs": [],
   "source": [
    "# df['selected_text'] = df['selected_text'].apply(lambda x: TextBlob(x).correct().string)"
   ]
  },
  {
   "cell_type": "code",
   "execution_count": 36,
   "id": "942abc87-07f9-4607-84d4-132d4f675437",
   "metadata": {},
   "outputs": [
    {
     "name": "stderr",
     "output_type": "stream",
     "text": [
      "[nltk_data] Downloading package stopwords to\n",
      "[nltk_data]     C:\\Users\\ramvi\\AppData\\Roaming\\nltk_data...\n",
      "[nltk_data]   Package stopwords is already up-to-date!\n"
     ]
    }
   ],
   "source": [
    "nltk.download('stopwords')\n",
    "from nltk.corpus import stopwords"
   ]
  },
  {
   "cell_type": "code",
   "execution_count": 37,
   "id": "d0e119ca-0392-480a-ac77-ee4893f240ac",
   "metadata": {},
   "outputs": [],
   "source": [
    "# def remove_stopwords(text):\n",
    "#     new_text = []\n",
    "#     for w in text.split():\n",
    "#         if w in stopwords.words('english'):\n",
    "#             new_text.append('')\n",
    "#         else:\n",
    "#             new_text.append(w)\n",
    "#     x = new_text[:]\n",
    "#     new_text.clear()\n",
    "#     return \" \".join(x)"
   ]
  },
  {
   "cell_type": "code",
   "execution_count": 38,
   "id": "8a443b05-e4ad-4665-97f6-9a41c7c86195",
   "metadata": {},
   "outputs": [],
   "source": [
    "# df['text'] = df['text'].apply(remove_stopwords)"
   ]
  },
  {
   "cell_type": "code",
   "execution_count": 39,
   "id": "ddeae3e9-3449-42a5-9639-2daaee7da250",
   "metadata": {},
   "outputs": [],
   "source": [
    "# df['selected_text'] = df['selected_text'].apply(remove_stopwords)"
   ]
  },
  {
   "cell_type": "code",
   "execution_count": 40,
   "id": "e47c4e0d-6526-4f06-b815-0cf4b540dae8",
   "metadata": {},
   "outputs": [
    {
     "name": "stdout",
     "output_type": "stream",
     "text": [
      "hello\n"
     ]
    }
   ],
   "source": [
    "print(\"hello\")"
   ]
  },
  {
   "cell_type": "code",
   "execution_count": 41,
   "id": "f733372f-2574-481a-9e69-8e22b24a5d81",
   "metadata": {},
   "outputs": [],
   "source": [
    "# import emoji\n",
    "# def has_emojis(text):\n",
    "#     return any(emoji.is_emoji(char) for char in text) if isinstance(text, str) else False"
   ]
  },
  {
   "cell_type": "code",
   "execution_count": 42,
   "id": "a8d04f71-39d8-4367-935c-dd985126e226",
   "metadata": {},
   "outputs": [],
   "source": [
    "# text_with_emoji = \"Hello 😃\"\n",
    "# result = has_emojis(text_with_emoji)\n",
    "# print(result)  # Should print True\n"
   ]
  },
  {
   "cell_type": "code",
   "execution_count": 43,
   "id": "822b8afe-6d71-4d26-9668-b69c55ff68a7",
   "metadata": {},
   "outputs": [],
   "source": [
    "# df['text_has_emojis'] = df['text'].apply(has_emojis)"
   ]
  },
  {
   "cell_type": "code",
   "execution_count": 44,
   "id": "f0341c0b-7a03-4510-bc3f-9590893883ef",
   "metadata": {},
   "outputs": [],
   "source": [
    "# text_with_emoji = \"Hello\"\n",
    "# result = has_emojis(text_with_emoji)\n",
    "# print(result)  # Should print True"
   ]
  },
  {
   "cell_type": "code",
   "execution_count": 45,
   "id": "3b44a81e-7df5-4580-9434-3a5db2c4c729",
   "metadata": {},
   "outputs": [],
   "source": [
    "# print(df[['text', 'text_has_emojis']])"
   ]
  },
  {
   "cell_type": "code",
   "execution_count": 46,
   "id": "5609edf3-ad21-47b5-a949-c83c19cd44ff",
   "metadata": {},
   "outputs": [],
   "source": [
    "# df['text'] = df['text'].astype(str)"
   ]
  },
  {
   "cell_type": "code",
   "execution_count": 47,
   "id": "069ff7cb-6348-47b8-93e7-378af25ab777",
   "metadata": {},
   "outputs": [],
   "source": [
    "from nltk.tokenize import word_tokenize\n",
    "from nltk.stem import PorterStemmer\n",
    "\n",
    "def tokenize(text):\n",
    "    text = str(text)\n",
    "    tokens = word_tokenize(text)\n",
    "    stop_words = set(stopwords.words('english'))\n",
    "    stemmer = PorterStemmer()\n",
    "    filtered_tokens = [stemmer.stem(word) for word in tokens if word not in stop_words]\n",
    "    # Rejoining the tokens into a string\n",
    "    return \" \".join(filtered_tokens)\n",
    "    # return \" \".join(tokens)"
   ]
  },
  {
   "cell_type": "code",
   "execution_count": 50,
   "id": "8e07d641-6dd5-48df-badc-ebb8193d50d0",
   "metadata": {},
   "outputs": [
    {
     "name": "stderr",
     "output_type": "stream",
     "text": [
      "[nltk_data] Downloading package punkt to\n",
      "[nltk_data]     C:\\Users\\ramvi\\AppData\\Roaming\\nltk_data...\n",
      "[nltk_data]   Unzipping tokenizers\\punkt.zip.\n"
     ]
    },
    {
     "data": {
      "text/plain": [
       "True"
      ]
     },
     "execution_count": 50,
     "metadata": {},
     "output_type": "execute_result"
    }
   ],
   "source": [
    "  import nltk\n",
    "  nltk.download('punkt')"
   ]
  },
  {
   "cell_type": "code",
   "execution_count": 51,
   "id": "6be166a7-5d4c-4297-9f31-0c8e9beb3fe5",
   "metadata": {},
   "outputs": [],
   "source": [
    "df['text'] = df['text'].apply(tokenize)"
   ]
  },
  {
   "cell_type": "code",
   "execution_count": 52,
   "id": "45baaef8-57b8-4330-9823-f392e82ce95a",
   "metadata": {},
   "outputs": [],
   "source": [
    "df['selected_text'] = df['selected_text'].apply(tokenize)"
   ]
  },
  {
   "cell_type": "code",
   "execution_count": 53,
   "id": "5b4ee392-ae7a-4cff-8caa-389bf93d22d6",
   "metadata": {},
   "outputs": [
    {
     "data": {
      "text/html": [
       "<div>\n",
       "<style scoped>\n",
       "    .dataframe tbody tr th:only-of-type {\n",
       "        vertical-align: middle;\n",
       "    }\n",
       "\n",
       "    .dataframe tbody tr th {\n",
       "        vertical-align: top;\n",
       "    }\n",
       "\n",
       "    .dataframe thead th {\n",
       "        text-align: right;\n",
       "    }\n",
       "</style>\n",
       "<table border=\"1\" class=\"dataframe\">\n",
       "  <thead>\n",
       "    <tr style=\"text-align: right;\">\n",
       "      <th></th>\n",
       "      <th>textID</th>\n",
       "      <th>text</th>\n",
       "      <th>selected_text</th>\n",
       "      <th>sentiment</th>\n",
       "    </tr>\n",
       "  </thead>\n",
       "  <tbody>\n",
       "    <tr>\n",
       "      <th>0</th>\n",
       "      <td>cb774db0d1</td>\n",
       "      <td>id respond go</td>\n",
       "      <td>id respond go</td>\n",
       "      <td>neutral</td>\n",
       "    </tr>\n",
       "    <tr>\n",
       "      <th>1</th>\n",
       "      <td>549e992a42</td>\n",
       "      <td>sooo sad miss san diego</td>\n",
       "      <td>sooo sad</td>\n",
       "      <td>negative</td>\n",
       "    </tr>\n",
       "  </tbody>\n",
       "</table>\n",
       "</div>"
      ],
      "text/plain": [
       "       textID                     text  selected_text sentiment\n",
       "0  cb774db0d1            id respond go  id respond go   neutral\n",
       "1  549e992a42  sooo sad miss san diego       sooo sad  negative"
      ]
     },
     "execution_count": 53,
     "metadata": {},
     "output_type": "execute_result"
    }
   ],
   "source": [
    "df.head(2)"
   ]
  },
  {
   "cell_type": "code",
   "execution_count": 54,
   "id": "007d6cef-1cb0-442b-8e75-f2c6a2d6c70c",
   "metadata": {},
   "outputs": [
    {
     "data": {
      "text/html": [
       "<div>\n",
       "<style scoped>\n",
       "    .dataframe tbody tr th:only-of-type {\n",
       "        vertical-align: middle;\n",
       "    }\n",
       "\n",
       "    .dataframe tbody tr th {\n",
       "        vertical-align: top;\n",
       "    }\n",
       "\n",
       "    .dataframe thead th {\n",
       "        text-align: right;\n",
       "    }\n",
       "</style>\n",
       "<table border=\"1\" class=\"dataframe\">\n",
       "  <thead>\n",
       "    <tr style=\"text-align: right;\">\n",
       "      <th></th>\n",
       "      <th>textID</th>\n",
       "      <th>text</th>\n",
       "      <th>selected_text</th>\n",
       "      <th>sentiment</th>\n",
       "    </tr>\n",
       "  </thead>\n",
       "  <tbody>\n",
       "    <tr>\n",
       "      <th>0</th>\n",
       "      <td>cb774db0d1</td>\n",
       "      <td>id respond go</td>\n",
       "      <td>id respond go</td>\n",
       "      <td>neutral</td>\n",
       "    </tr>\n",
       "    <tr>\n",
       "      <th>1</th>\n",
       "      <td>549e992a42</td>\n",
       "      <td>sooo sad miss san diego</td>\n",
       "      <td>sooo sad</td>\n",
       "      <td>negative</td>\n",
       "    </tr>\n",
       "    <tr>\n",
       "      <th>2</th>\n",
       "      <td>088c60f138</td>\n",
       "      <td>boss bulli</td>\n",
       "      <td>bulli</td>\n",
       "      <td>negative</td>\n",
       "    </tr>\n",
       "    <tr>\n",
       "      <th>3</th>\n",
       "      <td>9642c003ef</td>\n",
       "      <td>interview leav alon</td>\n",
       "      <td>leav alon</td>\n",
       "      <td>negative</td>\n",
       "    </tr>\n",
       "    <tr>\n",
       "      <th>4</th>\n",
       "      <td>358bd9e861</td>\n",
       "      <td>son couldnt put releas alreadi bought</td>\n",
       "      <td>son</td>\n",
       "      <td>negative</td>\n",
       "    </tr>\n",
       "    <tr>\n",
       "      <th>...</th>\n",
       "      <td>...</td>\n",
       "      <td>...</td>\n",
       "      <td>...</td>\n",
       "      <td>...</td>\n",
       "    </tr>\n",
       "    <tr>\n",
       "      <th>27476</th>\n",
       "      <td>4eac33d1c0</td>\n",
       "      <td>wish could come see you denver husband lost jo...</td>\n",
       "      <td>lost</td>\n",
       "      <td>negative</td>\n",
       "    </tr>\n",
       "    <tr>\n",
       "      <th>27477</th>\n",
       "      <td>4f4c4fc327</td>\n",
       "      <td>ive wonder rake client made clear net dont for...</td>\n",
       "      <td>dont forc</td>\n",
       "      <td>negative</td>\n",
       "    </tr>\n",
       "    <tr>\n",
       "      <th>27478</th>\n",
       "      <td>f67aae2310</td>\n",
       "      <td>yay good enjoy break probabl need hectic weeke...</td>\n",
       "      <td>yay good</td>\n",
       "      <td>positive</td>\n",
       "    </tr>\n",
       "    <tr>\n",
       "      <th>27479</th>\n",
       "      <td>ed167662a5</td>\n",
       "      <td>worth</td>\n",
       "      <td>worth</td>\n",
       "      <td>positive</td>\n",
       "    </tr>\n",
       "    <tr>\n",
       "      <th>27480</th>\n",
       "      <td>6f7127d9d7</td>\n",
       "      <td>flirt go atg smile yay hug</td>\n",
       "      <td>flirt go atg smile yay hug</td>\n",
       "      <td>neutral</td>\n",
       "    </tr>\n",
       "  </tbody>\n",
       "</table>\n",
       "<p>27480 rows × 4 columns</p>\n",
       "</div>"
      ],
      "text/plain": [
       "           textID                                               text  \\\n",
       "0      cb774db0d1                                      id respond go   \n",
       "1      549e992a42                            sooo sad miss san diego   \n",
       "2      088c60f138                                         boss bulli   \n",
       "3      9642c003ef                                interview leav alon   \n",
       "4      358bd9e861              son couldnt put releas alreadi bought   \n",
       "...           ...                                                ...   \n",
       "27476  4eac33d1c0  wish could come see you denver husband lost jo...   \n",
       "27477  4f4c4fc327  ive wonder rake client made clear net dont for...   \n",
       "27478  f67aae2310  yay good enjoy break probabl need hectic weeke...   \n",
       "27479  ed167662a5                                              worth   \n",
       "27480  6f7127d9d7                         flirt go atg smile yay hug   \n",
       "\n",
       "                    selected_text sentiment  \n",
       "0                   id respond go   neutral  \n",
       "1                        sooo sad  negative  \n",
       "2                           bulli  negative  \n",
       "3                       leav alon  negative  \n",
       "4                             son  negative  \n",
       "...                           ...       ...  \n",
       "27476                        lost  negative  \n",
       "27477                   dont forc  negative  \n",
       "27478                    yay good  positive  \n",
       "27479                       worth  positive  \n",
       "27480  flirt go atg smile yay hug   neutral  \n",
       "\n",
       "[27480 rows x 4 columns]"
      ]
     },
     "execution_count": 54,
     "metadata": {},
     "output_type": "execute_result"
    }
   ],
   "source": [
    "df"
   ]
  },
  {
   "cell_type": "code",
   "execution_count": 55,
   "id": "3e2662df-af81-463c-b2e6-8b9bd52375b7",
   "metadata": {},
   "outputs": [],
   "source": [
    "df = df.drop('textID', axis = 1)"
   ]
  },
  {
   "cell_type": "code",
   "execution_count": 56,
   "id": "b28f8fdf-9f9f-4add-b722-cb6036dfdbac",
   "metadata": {},
   "outputs": [
    {
     "data": {
      "text/html": [
       "<div>\n",
       "<style scoped>\n",
       "    .dataframe tbody tr th:only-of-type {\n",
       "        vertical-align: middle;\n",
       "    }\n",
       "\n",
       "    .dataframe tbody tr th {\n",
       "        vertical-align: top;\n",
       "    }\n",
       "\n",
       "    .dataframe thead th {\n",
       "        text-align: right;\n",
       "    }\n",
       "</style>\n",
       "<table border=\"1\" class=\"dataframe\">\n",
       "  <thead>\n",
       "    <tr style=\"text-align: right;\">\n",
       "      <th></th>\n",
       "      <th>text</th>\n",
       "      <th>selected_text</th>\n",
       "      <th>sentiment</th>\n",
       "    </tr>\n",
       "  </thead>\n",
       "  <tbody>\n",
       "    <tr>\n",
       "      <th>0</th>\n",
       "      <td>id respond go</td>\n",
       "      <td>id respond go</td>\n",
       "      <td>neutral</td>\n",
       "    </tr>\n",
       "    <tr>\n",
       "      <th>1</th>\n",
       "      <td>sooo sad miss san diego</td>\n",
       "      <td>sooo sad</td>\n",
       "      <td>negative</td>\n",
       "    </tr>\n",
       "    <tr>\n",
       "      <th>2</th>\n",
       "      <td>boss bulli</td>\n",
       "      <td>bulli</td>\n",
       "      <td>negative</td>\n",
       "    </tr>\n",
       "    <tr>\n",
       "      <th>3</th>\n",
       "      <td>interview leav alon</td>\n",
       "      <td>leav alon</td>\n",
       "      <td>negative</td>\n",
       "    </tr>\n",
       "    <tr>\n",
       "      <th>4</th>\n",
       "      <td>son couldnt put releas alreadi bought</td>\n",
       "      <td>son</td>\n",
       "      <td>negative</td>\n",
       "    </tr>\n",
       "    <tr>\n",
       "      <th>...</th>\n",
       "      <td>...</td>\n",
       "      <td>...</td>\n",
       "      <td>...</td>\n",
       "    </tr>\n",
       "    <tr>\n",
       "      <th>27476</th>\n",
       "      <td>wish could come see you denver husband lost jo...</td>\n",
       "      <td>lost</td>\n",
       "      <td>negative</td>\n",
       "    </tr>\n",
       "    <tr>\n",
       "      <th>27477</th>\n",
       "      <td>ive wonder rake client made clear net dont for...</td>\n",
       "      <td>dont forc</td>\n",
       "      <td>negative</td>\n",
       "    </tr>\n",
       "    <tr>\n",
       "      <th>27478</th>\n",
       "      <td>yay good enjoy break probabl need hectic weeke...</td>\n",
       "      <td>yay good</td>\n",
       "      <td>positive</td>\n",
       "    </tr>\n",
       "    <tr>\n",
       "      <th>27479</th>\n",
       "      <td>worth</td>\n",
       "      <td>worth</td>\n",
       "      <td>positive</td>\n",
       "    </tr>\n",
       "    <tr>\n",
       "      <th>27480</th>\n",
       "      <td>flirt go atg smile yay hug</td>\n",
       "      <td>flirt go atg smile yay hug</td>\n",
       "      <td>neutral</td>\n",
       "    </tr>\n",
       "  </tbody>\n",
       "</table>\n",
       "<p>27480 rows × 3 columns</p>\n",
       "</div>"
      ],
      "text/plain": [
       "                                                    text  \\\n",
       "0                                          id respond go   \n",
       "1                                sooo sad miss san diego   \n",
       "2                                             boss bulli   \n",
       "3                                    interview leav alon   \n",
       "4                  son couldnt put releas alreadi bought   \n",
       "...                                                  ...   \n",
       "27476  wish could come see you denver husband lost jo...   \n",
       "27477  ive wonder rake client made clear net dont for...   \n",
       "27478  yay good enjoy break probabl need hectic weeke...   \n",
       "27479                                              worth   \n",
       "27480                         flirt go atg smile yay hug   \n",
       "\n",
       "                    selected_text sentiment  \n",
       "0                   id respond go   neutral  \n",
       "1                        sooo sad  negative  \n",
       "2                           bulli  negative  \n",
       "3                       leav alon  negative  \n",
       "4                             son  negative  \n",
       "...                           ...       ...  \n",
       "27476                        lost  negative  \n",
       "27477                   dont forc  negative  \n",
       "27478                    yay good  positive  \n",
       "27479                       worth  positive  \n",
       "27480  flirt go atg smile yay hug   neutral  \n",
       "\n",
       "[27480 rows x 3 columns]"
      ]
     },
     "execution_count": 56,
     "metadata": {},
     "output_type": "execute_result"
    }
   ],
   "source": [
    "df"
   ]
  },
  {
   "cell_type": "code",
   "execution_count": 57,
   "id": "2b5279f3-2586-4c53-8a8e-39f26b3b1e9c",
   "metadata": {},
   "outputs": [],
   "source": [
    "from sklearn.model_selection import train_test_split"
   ]
  },
  {
   "cell_type": "code",
   "execution_count": 58,
   "id": "fd999a53-a189-4f2e-9223-bec06efe16a2",
   "metadata": {},
   "outputs": [],
   "source": [
    "# X = df['text'] \n",
    "# y = df['sentiment']\n",
    "\n",
    "# X_train, X_test, y_train, y_test = train_test_split(X, y, test_size=0.2, random_state=42)"
   ]
  },
  {
   "cell_type": "code",
   "execution_count": 59,
   "id": "c965eb48-0ff3-4f7f-b10a-b852e340da5c",
   "metadata": {},
   "outputs": [],
   "source": [
    "# from sklearn.feature_extraction.text import TfidfVectorizer"
   ]
  },
  {
   "cell_type": "code",
   "execution_count": 60,
   "id": "6085fe0e-8ae4-4cca-801d-3dda9384e3dc",
   "metadata": {},
   "outputs": [],
   "source": [
    "# vectorizer = TfidfVectorizer()\n",
    "# X_train_vectors = vectorizer.fit_transform(X_train)\n",
    "# X_test_vectors = vectorizer.transform(X_test)"
   ]
  },
  {
   "cell_type": "code",
   "execution_count": 61,
   "id": "45ba573d-ebca-45d2-8312-733882270766",
   "metadata": {},
   "outputs": [],
   "source": [
    "# from sklearn.svm import SVC"
   ]
  },
  {
   "cell_type": "code",
   "execution_count": 62,
   "id": "dc6b2a54-5f98-4f46-8108-b97c1ca72b13",
   "metadata": {},
   "outputs": [],
   "source": [
    "# model = SVC()\n",
    "# model.fit(X_train_vectors, y_train)"
   ]
  },
  {
   "cell_type": "code",
   "execution_count": 63,
   "id": "f8ad1efe-a550-481e-9e1c-90b2d18fcd42",
   "metadata": {},
   "outputs": [],
   "source": [
    "# from sklearn.metrics import classification_report, accuracy_score"
   ]
  },
  {
   "cell_type": "code",
   "execution_count": 64,
   "id": "00533105-256c-4ad2-a2af-350bebfe43f5",
   "metadata": {},
   "outputs": [],
   "source": [
    "# y_pred = model.predict(X_test_vectors)\n",
    "\n",
    "# print(\"Classification Report:\")\n",
    "# print(classification_report(y_test, y_pred))\n",
    "\n",
    "# print(\"Accuracy Score:\", accuracy_score(y_test, y_pred))"
   ]
  },
  {
   "cell_type": "code",
   "execution_count": 65,
   "id": "c74e6aaf-c7e7-4568-b443-0181451198b6",
   "metadata": {},
   "outputs": [],
   "source": [
    "# import tensorflow as tf\n",
    "# from tensorflow import keras\n",
    "# from tensorflow.keras import layers"
   ]
  },
  {
   "cell_type": "code",
   "execution_count": 66,
   "id": "a9ad89df-6b1c-457e-9235-605209f35651",
   "metadata": {},
   "outputs": [],
   "source": [
    "# def transformer_model(embed_dim, num_heads, ff_dim, input_len, output_len, dropout=0.1):\n",
    "#     inputs = layers.Input(shape=(input_len,))\n",
    "\n",
    "#     # Embedding layer\n",
    "#     embedding_layer = TokenAndPositionEmbedding(input_len, embed_dim)\n",
    "#     x = embedding_layer(inputs)\n",
    "\n",
    "#     # Transformer block\n",
    "#     for _ in range(num_heads):\n",
    "#         x = TransformerBlock(embed_dim, num_heads, ff_dim, dropout)(x)\n",
    "\n",
    "#     # Output layer\n",
    "#     x = layers.GlobalAveragePooling1D()(x)\n",
    "#     x = layers.Dropout(dropout)(x)\n",
    "#     x = layers.Dense(20, activation=\"relu\")(x)\n",
    "#     x = layers.Dropout(dropout)(x)\n",
    "#     outputs = layers.Dense(output_len, activation=\"softmax\")(x)\n",
    "\n",
    "#     model = keras.Model(inputs=inputs, outputs=outputs)\n",
    "\n",
    "#     return model\n"
   ]
  },
  {
   "cell_type": "code",
   "execution_count": 67,
   "id": "8395d5ee-cd98-4029-9bcb-61991d5cf992",
   "metadata": {},
   "outputs": [],
   "source": [
    "# class TokenAndPositionEmbedding(layers.Layer):\n",
    "#     def __init__(self, maxlen, embed_dim):\n",
    "#         super(TokenAndPositionEmbedding, self).__init__()\n",
    "#         self.token_emb = layers.Embedding(input_dim=maxlen, output_dim=embed_dim)\n",
    "#         self.pos_emb = layers.Embedding(input_dim=maxlen, output_dim=embed_dim)\n",
    "\n",
    "#     def call(self, x):\n",
    "#         maxlen = tf.shape(x)[-1]\n",
    "#         positions = tf.range(start=0, limit=maxlen, delta=1)\n",
    "#         positions = self.pos_emb(positions)\n",
    "#         x = self.token_emb(x)\n",
    "#         return x + positions\n",
    "\n",
    "# class TransformerBlock(layers.Layer):\n",
    "#     def __init__(self, embed_dim, num_heads, ff_dim, dropout=0.1):\n",
    "#         super(TransformerBlock, self).__init__()\n",
    "#         self.att = layers.MultiHeadAttention(num_heads=num_heads, key_dim=embed_dim)\n",
    "#         self.ffn = keras.Sequential(\n",
    "#             [layers.Dense(ff_dim, activation=\"relu\"), layers.Dense(embed_dim)]\n",
    "#         )\n",
    "#         self.layernorm1 = layers.LayerNormalization(epsilon=1e-6)\n",
    "#         self.layernorm2 = layers.LayerNormalization(epsilon=1e-6)\n",
    "#         self.dropout1 = layers.Dropout(dropout)\n",
    "#         self.dropout2 = layers.Dropout(dropout)\n",
    "\n",
    "#     def call(self, inputs, training):\n",
    "#         attn_output = self.att(inputs, inputs)\n",
    "#         attn_output = self.dropout1(attn_output, training=training)\n",
    "#         out1 = self.layernorm1(inputs + attn_output)\n",
    "\n",
    "#         ffn_output = self.ffn(out1)\n",
    "#         ffn_output = self.dropout2(ffn_output, training=training)\n",
    "#         return self.layernorm2(out1 + ffn_output)\n"
   ]
  },
  {
   "cell_type": "code",
   "execution_count": 68,
   "id": "6a9e7ed7-34f2-43db-a879-2cb1a56dcb46",
   "metadata": {},
   "outputs": [],
   "source": [
    "# X = df['text'] \n",
    "# y = df['sentiment']\n",
    "\n",
    "# X_train, X_test, y_train, y_test = train_test_split(X, y, test_size=0.2, random_state=42)"
   ]
  },
  {
   "cell_type": "code",
   "execution_count": 69,
   "id": "b86e5802-bbd5-4748-987c-8a6879f33ef3",
   "metadata": {},
   "outputs": [],
   "source": [
    "# num_classes = len(set(y_train))"
   ]
  },
  {
   "cell_type": "code",
   "execution_count": 70,
   "id": "d8bf3cc0-b944-4558-bed6-fd5d4a1ce961",
   "metadata": {},
   "outputs": [],
   "source": [
    "# num_classes"
   ]
  },
  {
   "cell_type": "code",
   "execution_count": 71,
   "id": "7b694085-ff50-43ef-9646-c3e5bd94fae8",
   "metadata": {},
   "outputs": [],
   "source": [
    "# from sklearn.preprocessing import LabelEncoder\n",
    "\n",
    "# label_encoder = LabelEncoder()\n",
    "# y_train_encoded = label_encoder.fit_transform(y_train)\n",
    "# y_test_encoded = label_encoder.transform(y_test)"
   ]
  },
  {
   "cell_type": "code",
   "execution_count": 72,
   "id": "55fc5bad-4337-48ec-8e36-d54066c2e18f",
   "metadata": {},
   "outputs": [],
   "source": [
    "# from tensorflow.keras.utils import to_categorical\n",
    "\n",
    "# y_train_one_hot = to_categorical(y_train_encoded, num_classes=3)\n",
    "# y_test_one_hot = to_categorical(y_test_encoded, num_classes=3)"
   ]
  },
  {
   "cell_type": "code",
   "execution_count": 73,
   "id": "df5a4ab1-fd82-4bbc-8d5b-a6639ab49e78",
   "metadata": {},
   "outputs": [],
   "source": [
    "# model = transformer_model(embed_dim=32, num_heads=2, ff_dim=32, input_len=100, output_len=num_classes)\n",
    "# model.compile(optimizer='adam', loss='sparse_categorical_crossentropy', metrics=['accuracy'])"
   ]
  },
  {
   "cell_type": "code",
   "execution_count": 74,
   "id": "e4080c34-abad-4a64-8411-49d15cca4ca0",
   "metadata": {},
   "outputs": [],
   "source": [
    "# model.fit(X_train, y_train, epochs=10, batch_size=32, validation_data=(X_test, y_test))"
   ]
  },
  {
   "cell_type": "code",
   "execution_count": 75,
   "id": "4077d355-55ae-4830-9e8a-8acc15bb2532",
   "metadata": {},
   "outputs": [],
   "source": [
    "corpus = []\n",
    "for sent in df['text']:\n",
    "    corpus.append(sent)"
   ]
  },
  {
   "cell_type": "code",
   "execution_count": 76,
   "id": "0e91e688-6ff3-411c-aec2-28c5e0e9b39d",
   "metadata": {},
   "outputs": [],
   "source": [
    "# corpus"
   ]
  },
  {
   "cell_type": "code",
   "execution_count": 78,
   "id": "6ca501bb-79c3-4f4d-bbe4-d147a9f18e90",
   "metadata": {},
   "outputs": [],
   "source": [
    "import nltk \n",
    "from tensorflow.keras.preprocessing.sequence import pad_sequences"
   ]
  },
  {
   "cell_type": "code",
   "execution_count": 79,
   "id": "39ed92f9-a136-4bac-ba03-1f6950aa055b",
   "metadata": {},
   "outputs": [
    {
     "name": "stderr",
     "output_type": "stream",
     "text": [
      "[nltk_data] Downloading package punkt to\n",
      "[nltk_data]     C:\\Users\\ramvi\\AppData\\Roaming\\nltk_data...\n",
      "[nltk_data]   Package punkt is already up-to-date!\n"
     ]
    },
    {
     "data": {
      "text/plain": [
       "True"
      ]
     },
     "execution_count": 79,
     "metadata": {},
     "output_type": "execute_result"
    }
   ],
   "source": [
    "from nltk.tokenize import sent_tokenize, word_tokenize\n",
    "\n",
    "# Download the punkt tokenizer if not already downloaded\n",
    "nltk.download('punkt')"
   ]
  },
  {
   "cell_type": "code",
   "execution_count": 80,
   "id": "edf3211c-50c6-46c8-8802-4756e633c29e",
   "metadata": {},
   "outputs": [],
   "source": [
    "tokens = []\n",
    "for sent in corpus:\n",
    "    sent_token = (sent_tokenize(sent))\n",
    "    for word in sent_token:\n",
    "        tokens.append(word_tokenize(word))"
   ]
  },
  {
   "cell_type": "code",
   "execution_count": 81,
   "id": "1eca6bcf-e20a-4594-8545-84880097b4e8",
   "metadata": {},
   "outputs": [],
   "source": [
    "# tokens"
   ]
  },
  {
   "cell_type": "code",
   "execution_count": 82,
   "id": "88d9dd2d-9312-490d-b459-ab309f7e0eb3",
   "metadata": {},
   "outputs": [],
   "source": [
    "vocab = set(word for sentence in tokens for word in sentence)"
   ]
  },
  {
   "cell_type": "code",
   "execution_count": 83,
   "id": "b824dc40-e698-4115-b060-ba99c414788b",
   "metadata": {},
   "outputs": [],
   "source": [
    "word_to_index = {word: index for index, word in enumerate(vocab)}\n",
    "index_to_word = {index: word for index, word in enumerate(vocab)}"
   ]
  },
  {
   "cell_type": "code",
   "execution_count": 84,
   "id": "b4be53a7-cd7d-4746-ba17-34de6d142dcf",
   "metadata": {},
   "outputs": [],
   "source": [
    "target_dict = {'negative':0, 'neutral':1, 'positive':2}\n",
    "def training_dataset(tokens, word_to_index, sentiment, target_dict):\n",
    "    X,y = [],[]\n",
    "    for sentence, senti in zip(tokens, sentiment):\n",
    "        temp_x = [word_to_index[word] for word in sentence]\n",
    "        X.append(temp_x)\n",
    "        y.append(target_dict[senti])\n",
    "    X = pad_sequences(X, padding = 'post')\n",
    "    return np.array(X), np.array(y)"
   ]
  },
  {
   "cell_type": "code",
   "execution_count": 85,
   "id": "5dcb0340-b503-4bd2-a813-355e37a36e89",
   "metadata": {},
   "outputs": [],
   "source": [
    "X,y = training_dataset(tokens, word_to_index, df['sentiment'], target_dict)"
   ]
  },
  {
   "cell_type": "code",
   "execution_count": 86,
   "id": "ebbc478b-5fe9-4a7e-8ee0-b2f74c6701a6",
   "metadata": {},
   "outputs": [],
   "source": [
    "x_train, x_test, y_train, y_test = train_test_split(X, y, test_size=0.2)"
   ]
  },
  {
   "cell_type": "code",
   "execution_count": 87,
   "id": "7a920ed2-1ace-4c56-855a-46f06598f6c6",
   "metadata": {
    "scrolled": true
   },
   "outputs": [
    {
     "data": {
      "text/plain": [
       "((21941, 30), (5486, 30), (5486,), (21941,))"
      ]
     },
     "execution_count": 87,
     "metadata": {},
     "output_type": "execute_result"
    }
   ],
   "source": [
    "x_train.shape, x_test.shape, y_test.shape, y_train.shape"
   ]
  },
  {
   "cell_type": "code",
   "execution_count": 97,
   "id": "8ff0cadf-acb6-4624-9bb0-8010d98f91d2",
   "metadata": {},
   "outputs": [],
   "source": [
    "# x_train = x_train.reshape(x_train.shape[0], 1, 30)\n",
    "# x_test = x_test.reshape(x_test.shape[0],1,30)\n",
    "x_train = x_train.reshape(x_train.shape[0], 30)  # Shape: (samples, timesteps, 1)\n",
    "x_test = x_test.reshape(x_test.shape[0], 30)"
   ]
  },
  {
   "cell_type": "code",
   "execution_count": 98,
   "id": "b1f73feb-f331-416e-89eb-99a8ee5415c4",
   "metadata": {},
   "outputs": [],
   "source": [
    "from keras.models import Sequential\n",
    "from keras.layers import LSTM, Dense, Embedding, Dropout\n",
    "\n",
    "model = Sequential()\n",
    "model.add(Embedding(input_dim=len(word_to_index), output_dim=128))\n",
    "model.add(LSTM(64, return_sequences=False))\n",
    "model.add(Dropout(0.5))\n",
    "model.add(Dense(3, activation='softmax'))  # 3 output classes\n",
    "model.compile(optimizer='adam', loss='sparse_categorical_crossentropy', metrics=['accuracy'])\n"
   ]
  },
  {
   "cell_type": "code",
   "execution_count": 99,
   "id": "c1188d86-62d0-45c4-aa1a-3574fab0be17",
   "metadata": {},
   "outputs": [
    {
     "name": "stdout",
     "output_type": "stream",
     "text": [
      "Epoch 1/10\n",
      "\u001b[1m549/549\u001b[0m \u001b[32m━━━━━━━━━━━━━━━━━━━━\u001b[0m\u001b[37m\u001b[0m \u001b[1m16s\u001b[0m 25ms/step - accuracy: 0.4054 - loss: 1.0899 - val_accuracy: 0.3951 - val_loss: 1.0899\n",
      "Epoch 2/10\n",
      "\u001b[1m549/549\u001b[0m \u001b[32m━━━━━━━━━━━━━━━━━━━━\u001b[0m\u001b[37m\u001b[0m \u001b[1m14s\u001b[0m 25ms/step - accuracy: 0.4066 - loss: 1.0872 - val_accuracy: 0.3951 - val_loss: 1.0905\n",
      "Epoch 3/10\n",
      "\u001b[1m549/549\u001b[0m \u001b[32m━━━━━━━━━━━━━━━━━━━━\u001b[0m\u001b[37m\u001b[0m \u001b[1m14s\u001b[0m 26ms/step - accuracy: 0.4060 - loss: 1.0878 - val_accuracy: 0.3953 - val_loss: 1.0901\n",
      "Epoch 4/10\n",
      "\u001b[1m549/549\u001b[0m \u001b[32m━━━━━━━━━━━━━━━━━━━━\u001b[0m\u001b[37m\u001b[0m \u001b[1m15s\u001b[0m 26ms/step - accuracy: 0.4429 - loss: 1.0593 - val_accuracy: 0.3390 - val_loss: 1.1147\n",
      "Epoch 5/10\n",
      "\u001b[1m549/549\u001b[0m \u001b[32m━━━━━━━━━━━━━━━━━━━━\u001b[0m\u001b[37m\u001b[0m \u001b[1m15s\u001b[0m 28ms/step - accuracy: 0.5275 - loss: 0.9513 - val_accuracy: 0.3648 - val_loss: 1.1752\n",
      "Epoch 6/10\n",
      "\u001b[1m549/549\u001b[0m \u001b[32m━━━━━━━━━━━━━━━━━━━━\u001b[0m\u001b[37m\u001b[0m \u001b[1m15s\u001b[0m 28ms/step - accuracy: 0.6226 - loss: 0.7913 - val_accuracy: 0.3534 - val_loss: 1.2912\n",
      "Epoch 7/10\n",
      "\u001b[1m549/549\u001b[0m \u001b[32m━━━━━━━━━━━━━━━━━━━━\u001b[0m\u001b[37m\u001b[0m \u001b[1m15s\u001b[0m 27ms/step - accuracy: 0.7172 - loss: 0.6278 - val_accuracy: 0.3634 - val_loss: 1.5378\n",
      "Epoch 8/10\n",
      "\u001b[1m549/549\u001b[0m \u001b[32m━━━━━━━━━━━━━━━━━━━━\u001b[0m\u001b[37m\u001b[0m \u001b[1m15s\u001b[0m 27ms/step - accuracy: 0.7833 - loss: 0.4891 - val_accuracy: 0.3604 - val_loss: 1.9421\n",
      "Epoch 9/10\n",
      "\u001b[1m549/549\u001b[0m \u001b[32m━━━━━━━━━━━━━━━━━━━━\u001b[0m\u001b[37m\u001b[0m \u001b[1m15s\u001b[0m 27ms/step - accuracy: 0.8203 - loss: 0.3935 - val_accuracy: 0.3541 - val_loss: 2.3117\n",
      "Epoch 10/10\n",
      "\u001b[1m549/549\u001b[0m \u001b[32m━━━━━━━━━━━━━━━━━━━━\u001b[0m\u001b[37m\u001b[0m \u001b[1m15s\u001b[0m 27ms/step - accuracy: 0.8377 - loss: 0.3502 - val_accuracy: 0.3614 - val_loss: 2.2304\n"
     ]
    }
   ],
   "source": [
    "history = model.fit(x_train, y_train, batch_size=32, epochs=10, validation_split=0.2)"
   ]
  },
  {
   "cell_type": "code",
   "execution_count": 100,
   "id": "d973eecf-64be-455e-8802-c77555b2bb1c",
   "metadata": {},
   "outputs": [
    {
     "name": "stdout",
     "output_type": "stream",
     "text": [
      "\u001b[1m172/172\u001b[0m \u001b[32m━━━━━━━━━━━━━━━━━━━━\u001b[0m\u001b[37m\u001b[0m \u001b[1m7s\u001b[0m 38ms/step - accuracy: 0.3579 - loss: 2.1574\n",
      "Test Accuracy: 0.35\n"
     ]
    }
   ],
   "source": [
    "loss, accuracy = model.evaluate(x_test, y_test)\n",
    "print(f\"Test Accuracy: {accuracy:.2f}\")"
   ]
  },
  {
   "cell_type": "code",
   "execution_count": 101,
   "id": "6bf7c914-f123-4094-96b1-8f3f51db2b51",
   "metadata": {},
   "outputs": [
    {
     "data": {
      "image/png": "[encoded data removed]",
      "text/plain": [
       "<Figure size 640x480 with 1 Axes>"
      ]
     },
     "metadata": {},
     "output_type": "display_data"
    }
   ],
   "source": [
    "import matplotlib.pyplot as plt\n",
    "\n",
    "plt.plot(history.history['accuracy'], label='Training Accuracy')\n",
    "plt.plot(history.history['val_accuracy'], label='Validation Accuracy')\n",
    "plt.legend()\n",
    "plt.show()\n"
   ]
  },
  {
   "cell_type": "code",
   "execution_count": 102,
   "id": "64193b62-ebb2-40fa-af39-10cf9e5c3184",
   "metadata": {},
   "outputs": [
    {
     "name": "stdout",
     "output_type": "stream",
     "text": [
      "\u001b[1m172/172\u001b[0m \u001b[32m━━━━━━━━━━━━━━━━━━━━\u001b[0m\u001b[37m\u001b[0m \u001b[1m3s\u001b[0m 14ms/step\n"
     ]
    }
   ],
   "source": [
    "predictions = model.predict(x_test)\n",
    "predicted_classes = np.argmax(predictions, axis=1)\n"
   ]
  },
  {
   "cell_type": "code",
   "execution_count": 103,
   "id": "f6ae1a77-97e8-40ad-b40c-be0d638b1b84",
   "metadata": {},
   "outputs": [
    {
     "name": "stdout",
     "output_type": "stream",
     "text": [
      "              precision    recall  f1-score   support\n",
      "\n",
      "           0       0.29      0.20      0.24      1554\n",
      "           1       0.40      0.52      0.45      2200\n",
      "           2       0.31      0.27      0.29      1732\n",
      "\n",
      "    accuracy                           0.35      5486\n",
      "   macro avg       0.34      0.33      0.33      5486\n",
      "weighted avg       0.34      0.35      0.34      5486\n",
      "\n",
      "[[ 316  808  430]\n",
      " [ 421 1153  626]\n",
      " [ 336  920  476]]\n"
     ]
    }
   ],
   "source": [
    "from sklearn.metrics import classification_report, confusion_matrix\n",
    "\n",
    "print(classification_report(y_test, predicted_classes))\n",
    "print(confusion_matrix(y_test, predicted_classes))\n"
   ]
  },
  {
   "cell_type": "code",
   "execution_count": null,
   "id": "757ebac9-75fe-455e-9533-53d6ef15ed9a",
   "metadata": {},
   "outputs": [],
   "source": []
  }
 ],
 "metadata": {
  "kernelspec": {
   "display_name": "Python 3 (ipykernel)",
   "language": "python",
   "name": "python3"
  },
  "language_info": {
   "codemirror_mode": {
    "name": "ipython",
    "version": 3
   },
   "file_extension": ".py",
   "mimetype": "text/x-python",
   "name": "python",
   "nbconvert_exporter": "python",
   "pygments_lexer": "ipython3",
   "version": "3.12.4"
  }
 },
 "nbformat": 4,
 "nbformat_minor": 5
}
